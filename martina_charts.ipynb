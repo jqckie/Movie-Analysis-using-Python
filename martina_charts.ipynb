{
 "cells": [
  {
   "cell_type": "code",
   "execution_count": 1,
   "metadata": {},
   "outputs": [],
   "source": [
    "# scater plot budget vs runtime \n",
    "def budgetVSruntime(table):\n",
    "\n",
    "    bud_run=table.plot(kind=\"scatter\",x=\"runtime\", y=\"budget\", marker=\"o\",grid=True,\n",
    "                title=\"runtime vs budget\",\n",
    "                facecolors=\"blue\", edgecolors=\"black\", alpha=0.7)\n",
    "    bud_run.set_xlabel(\"RunTime\")\n",
    "    bud_run.set_ylabel(\"Budget\")\n",
    "    \n",
    "    # linear regression of the data\n",
    "    br_slope, br_int, br_r, br_p, br_std_err = stats.linregress(\n",
    "    table[\"runtime\"],table[\"budget\"])\n",
    "    br_fit = br_slope * table[\"runtime\"] + br_int\n",
    "    bud_run=plt.plot(table[\"runtime\"],br_fit,\"--\",color=\"magenta\")\n",
    "\n",
    "    # Save the plotted figures as .pngs.\n",
    "    plt.savefig(\"output/Bud_RunTime.png\")"
   ]
  },
  {
   "cell_type": "code",
   "execution_count": 2,
   "metadata": {},
   "outputs": [],
   "source": [
    "# bar number of films per decades\n",
    "def filmPERyear(table):\n",
    "    \n",
    "    #get x ticks \n",
    "    decade=[]\n",
    "    for year in table[\"Decade\"]:\n",
    "        if year not in decade:\n",
    "            decade.append(year)\n",
    "    \n",
    "    #the x axis\n",
    "    x_axis=np.arange(len(decade))\n",
    "    \n",
    "    #count of films for each year\n",
    "    film_group=table.groupby(\"Decade\")\n",
    "    film_count=film_group[\"title\"].count()\n",
    "    count_table=pd.DataFrame({\"Film\":film_count}).sort_values(\"Film\",ascending=False)\n",
    "    \n",
    "    #plot bar chart\n",
    "    plt.xticks(x_axis, decade)\n",
    "    plt.bar(x_axis,count_table[\"Film\"],color='magenta', alpha=0.5, align=\"center\")\n",
    "    plt.xlabel(\"Decades\")\n",
    "    plt.ylabel(\"Number Of Films\")\n",
    "    plt.title(\"Number Of Films Per Decades\")\n",
    "    plt.grid(True)\n",
    "    plt.xticks(rotation=40)\n",
    "    print(count_table)\n",
    "    \n",
    "    # Save the plotted figures as .pngs.\n",
    "    plt.savefig(\"output/film_year.png\")"
   ]
  },
  {
   "cell_type": "code",
   "execution_count": null,
   "metadata": {},
   "outputs": [],
   "source": [
    "#  Popularity vs Vote_Count\n",
    "def popularity_voteCount(table):\n",
    "    pop_vote=table.plot(kind=\"scatter\",x=\"popularity\", y=\"vote_count\", marker=\"o\",grid=True,\n",
    "                title=\"Popularity vs Vote_Count\",\n",
    "                facecolors=\"blue\", edgecolors=\"black\", alpha=0.7)\n",
    "    pop_vote.set_xlabel(\"Popularity\")\n",
    "    pop_vote.set_ylabel(\"Vote Count\")\n",
    "    \n",
    "    # linear regression of the data\n",
    "    pv_slope, pv_int, pv_r, pv_p, pv_std_err = stats.linregress(\n",
    "    table[\"popularity\"],table[\"vote_count\"])\n",
    "    pv_fit = pv_slope * table[\"popularity\"] + pv_int\n",
    "    pop_vote=plt.plot(table[\"popularity\"],pv_fit,\"--\",color=\"magenta\")\n",
    "    \n",
    "    # Save the plotted figures as .pngs.\n",
    "    plt.savefig(\"output/pop_vote.png\")"
   ]
  }
 ],
 "metadata": {
  "kernelspec": {
   "display_name": "Python 3",
   "language": "python",
   "name": "python3"
  },
  "language_info": {
   "codemirror_mode": {
    "name": "ipython",
    "version": 3
   },
   "file_extension": ".py",
   "mimetype": "text/x-python",
   "name": "python",
   "nbconvert_exporter": "python",
   "pygments_lexer": "ipython3",
   "version": "3.6.5"
  }
 },
 "nbformat": 4,
 "nbformat_minor": 2
}
